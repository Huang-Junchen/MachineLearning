{
 "cells": [
  {
   "cell_type": "code",
   "execution_count": 1,
   "metadata": {},
   "outputs": [],
   "source": [
    "import numpy as np\n",
    "import operator"
   ]
  },
  {
   "cell_type": "code",
   "execution_count": 2,
   "metadata": {},
   "outputs": [],
   "source": [
    "def createDataSet():\n",
    "    group = np.array([[1.0, 1.1],\n",
    "                    [1.0, 1.0],\n",
    "                    [0, 0],\n",
    "                    [0, 0.1]])\n",
    "    labels = ['A', 'A', 'B', 'B']\n",
    "    return group, labels"
   ]
  },
  {
   "cell_type": "code",
   "execution_count": 3,
   "metadata": {},
   "outputs": [
    {
     "name": "stdout",
     "output_type": "stream",
     "text": [
      "[[1.  1.1]\n",
      " [1.  1. ]\n",
      " [0.  0. ]\n",
      " [0.  0.1]]\n",
      "['A', 'A', 'B', 'B']\n"
     ]
    }
   ],
   "source": [
    "group, labels = createDataSet()\n",
    "print(group)\n",
    "print(labels)"
   ]
  },
  {
   "attachments": {},
   "cell_type": "markdown",
   "metadata": {},
   "source": [
    "# kNN伪代码\n",
    "1. 计算已知类别数据集中的点与当前点之间的距离\n",
    "2. 按照距离递增次序排序\n",
    "3. 选取与当前点距离最小的k个点\n",
    "4. 确定前k个点所在类别的出现频率\n",
    "5. 返回前k个点出现频率最高的类别作为当前点的预测分类"
   ]
  },
  {
   "cell_type": "code",
   "execution_count": 4,
   "metadata": {},
   "outputs": [],
   "source": [
    "def classify0(inX, dataSet, labels, k):\n",
    "    '''1.使用欧式距离公式计算距离'''\n",
    "    dataSetSize = dataSet.shape[0] #获取行数\n",
    "    diffMat = np.tile(inX, (dataSetSize, 1)) -dataSet\n",
    "    sqDiffMat = diffMat**2\n",
    "    sqDistances = sqDiffMat.sum(axis=1) #axis=1时为矩阵每行向量和 axis=0时为对应列相加\n",
    "    distances = sqDistances**0.5\n",
    "\n",
    "    '''2.排序'''\n",
    "    sortedDistIndicies = distances.argsort() #从小到大排序后提取索引\n",
    "    '''4.确定出现频率'''\n",
    "    classCount = {}\n",
    "    for i in range(k):\n",
    "        voteIlable = labels[sortedDistIndicies[i]]\n",
    "        classCount[voteIlable] = classCount.get(voteIlable, 0) + 1\n",
    "        #返回字典元素对应的值+1，如果无则初始化为0\n",
    "    \n",
    "    sortedClassCount = sorted(classCount.items(),\n",
    "    key=operator.itemgetter(1), reverse=True)\n",
    "    #iteritems()将字典分解为元组列表[key][value]\n",
    "    #python3.9无iteritems(),改为items()\n",
    "    #itemgetter(1)读取元组的第2列\n",
    "    return sortedClassCount[0][0]\n"
   ]
  },
  {
   "cell_type": "code",
   "execution_count": 5,
   "metadata": {},
   "outputs": [
    {
     "data": {
      "text/plain": [
       "'B'"
      ]
     },
     "execution_count": 5,
     "metadata": {},
     "output_type": "execute_result"
    }
   ],
   "source": [
    "classify0([0, 0], group, labels, 3)"
   ]
  }
 ],
 "metadata": {
  "kernelspec": {
   "display_name": "base",
   "language": "python",
   "name": "python3"
  },
  "language_info": {
   "codemirror_mode": {
    "name": "ipython",
    "version": 3
   },
   "file_extension": ".py",
   "mimetype": "text/x-python",
   "name": "python",
   "nbconvert_exporter": "python",
   "pygments_lexer": "ipython3",
   "version": "3.9.13"
  },
  "orig_nbformat": 4,
  "vscode": {
   "interpreter": {
    "hash": "f857d427358718d66449f7ffcefee21649585f7f6be60671c1fc26c7917f3531"
   }
  }
 },
 "nbformat": 4,
 "nbformat_minor": 2
}
